{
  "cells": [
    {
      "cell_type": "markdown",
      "metadata": {
        "id": "view-in-github",
        "colab_type": "text"
      },
      "source": [
        "<a href=\"https://colab.research.google.com/github/Ahmadli1/Math-2024-25-Winter/blob/main/Notebooks_EN/01_Linear_Algebra/01_Matrices/LA_Matrix_basic_operations_en.ipynb\" target=\"_parent\"><img src=\"https://colab.research.google.com/assets/colab-badge.svg\" alt=\"Open In Colab\"/></a>"
      ]
    },
    {
      "cell_type": "markdown",
      "metadata": {
        "id": "AJgVTQlPN27X"
      },
      "source": [
        "# Basic Matrix Operations\n",
        "\n",
        "### Matrix Addition\n",
        "\n",
        "Let $A=[a_{ij}]$ and $B=[b_{ij}]$ be two matrices of dimensions $m \\times n$. Then the sum of matrices $A$ and $B$ is the matrix $C=[c_{ij}]$ of dimensions $m \\times n$, where $c_{ij}=a_{ij}+b_{ij}$.\n",
        "\n",
        "### Matrix Scalar Multiplication\n",
        "\n",
        "Let $A=[a_{ij}]$ be a matrix of dimensions $m \\times n$, and let $k$ be a scalar. Then the product of matrix $A$ and scalar $k$ is the matrix $B=[b_{ij}]$ of dimensions $m \\times n$, where $b_{ij}=k \\cdot a_{ij}$.\n",
        "\n",
        "### Matrix Multiplication\n",
        "\n",
        "Let $A=[a_{ij}]$ be a matrix of dimensions $m \\times n$, and $B=[b_{ij}]$ be a matrix of dimensions $n \\times p$. Then the product of matrices $A$ and $B$ is the matrix $C=[c_{ij}]$ of dimensions $m \\times p$, where $c_{ij}=\\sum_{k=1}^{n} a_{ik} \\cdot b_{kj}$.\n",
        "\n",
        "\n",
        "### Example 1\n",
        "\n",
        "Let $A=\\begin{bmatrix} 1 & 2 \\\\ 3 & 4 \\end{bmatrix}$ and $B=\\begin{bmatrix} 5 & 6 \\\\ 7 & 8 \\end{bmatrix}$.\n",
        "Then the sum of matrices $A$ and $B$ is\n",
        "\n",
        "$$\n",
        "C=\n",
        "A+B=\\begin{bmatrix} 1+5 & 2+6 \\\\ 3+7 & 4+8 \\end{bmatrix}=\\begin{bmatrix} 6 & 8 \\\\ 10 & 12 \\end{bmatrix}.\n",
        "$$\n",
        "\n",
        "### Example 2\n",
        "\n",
        "Let $A=\\begin{bmatrix} 1 & 2 \\\\ 3 & 4 \\end{bmatrix}$ and $k=2$.\n",
        "\n",
        "Then the product of matrix $A$ and scalar $k$ is\n",
        "\n",
        "$$\n",
        "B=\n",
        "k \\cdot A=2 \\cdot \\begin{bmatrix} 1 & 2 \\\\ 3 & 4 \\end{bmatrix}=\\begin{bmatrix} 2*1 & 2*2 \\\\ 2*3 & 2*4 \\end{bmatrix}=\\begin{bmatrix} 2 & 4 \\\\ 6 & 8 \\end{bmatrix}.\n",
        "$$\n",
        "\n",
        "### Example 3\n",
        "\n",
        "Let\n",
        "$A=\\begin{bmatrix} 1 & 2 \\\\ 3 & 4 \\end{bmatrix}$\n",
        "and\n",
        "$B=\\begin{bmatrix} 5 & 6 \\\\ 7 & 8 \\end{bmatrix}$.\n",
        "\n",
        "Then the product of matrices $A$ and $B$ is\n",
        "\n",
        "$$\n",
        "C=\n",
        "A \\cdot B=\\begin{bmatrix} 1*5+2*7 & 1*6+2*8 \\\\ 3*5+4*7 & 3*6+4*8 \\end{bmatrix}=\\begin{bmatrix} 19 & 22 \\\\ 43 & 50 \\end{bmatrix}.\n",
        "$$"
      ]
    },
    {
      "cell_type": "code",
      "execution_count": 1,
      "metadata": {
        "id": "g7DzFz1KN27X",
        "outputId": "a2756d07-1780-4850-dd60-5572c72ae686",
        "colab": {
          "base_uri": "https://localhost:8080/",
          "height": 58
        }
      },
      "outputs": [
        {
          "output_type": "execute_result",
          "data": {
            "text/plain": [
              "Matrix([\n",
              "[1, 2],\n",
              "[3, 4]])"
            ],
            "text/latex": "$\\displaystyle \\left[\\begin{matrix}1 & 2\\\\3 & 4\\end{matrix}\\right]$"
          },
          "metadata": {},
          "execution_count": 1
        }
      ],
      "source": [
        "# Example 1: Matrix addition in sympy\n",
        "import sympy as sp\n",
        "\n",
        "A=sp.Matrix([[1,2],[3,4]])\n",
        "B=sp.Matrix([[5,6],[7,8]])\n",
        "A # display matrix A"
      ]
    },
    {
      "cell_type": "code",
      "execution_count": 2,
      "metadata": {
        "id": "wJuOnVLJN27Y",
        "outputId": "914c803d-1351-41db-ed8d-1da0d9ebefcc",
        "colab": {
          "base_uri": "https://localhost:8080/",
          "height": 58
        }
      },
      "outputs": [
        {
          "output_type": "execute_result",
          "data": {
            "text/plain": [
              "Matrix([\n",
              "[5, 6],\n",
              "[7, 8]])"
            ],
            "text/latex": "$\\displaystyle \\left[\\begin{matrix}5 & 6\\\\7 & 8\\end{matrix}\\right]$"
          },
          "metadata": {},
          "execution_count": 2
        }
      ],
      "source": [
        "B # display matrix B"
      ]
    },
    {
      "cell_type": "code",
      "execution_count": 3,
      "metadata": {
        "id": "BNgl7wkkN27Y",
        "outputId": "95d977b2-f5f2-46c8-b888-6fb764f2a456",
        "colab": {
          "base_uri": "https://localhost:8080/"
        }
      },
      "outputs": [
        {
          "output_type": "execute_result",
          "data": {
            "text/plain": [
              "True"
            ]
          },
          "metadata": {},
          "execution_count": 3
        }
      ],
      "source": [
        "sp.Matrix([[6,8],[10,12]])==A+B # verify matrix addition"
      ]
    },
    {
      "cell_type": "code",
      "execution_count": 4,
      "metadata": {
        "id": "VYcHXgqYN27Y",
        "outputId": "ab0c908e-b7f8-49fb-fc28-03e832a9c07c",
        "colab": {
          "base_uri": "https://localhost:8080/"
        }
      },
      "outputs": [
        {
          "output_type": "execute_result",
          "data": {
            "text/plain": [
              "True"
            ]
          },
          "metadata": {},
          "execution_count": 4
        }
      ],
      "source": [
        "# Example 2: Scalar multiplication\n",
        "A=sp.Matrix([[1,2],[3,4]]) # define matrix A\n",
        "\n",
        "sp.Matrix([[2,4],[6,8]])==2*A # verify scalar multiplication"
      ]
    },
    {
      "cell_type": "code",
      "execution_count": 5,
      "metadata": {
        "id": "XeZjMS7nN27Y",
        "outputId": "ddf76eb9-c8c0-494a-e0d9-5474864d07b9",
        "colab": {
          "base_uri": "https://localhost:8080/"
        }
      },
      "outputs": [
        {
          "output_type": "execute_result",
          "data": {
            "text/plain": [
              "True"
            ]
          },
          "metadata": {},
          "execution_count": 5
        }
      ],
      "source": [
        "# Example 3: Multiplication of two matrices\n",
        "\n",
        "A=sp.Matrix([[1,2],[3,4]]) # define matrix A\n",
        "B=sp.Matrix([[5,6],[7,8]]) # define matrix B\n",
        "\n",
        "sp.Matrix([[19,22],[43,50]])==A*B # verify matrix multiplication"
      ]
    },
    {
      "cell_type": "markdown",
      "metadata": {
        "id": "vGx1tMBWN27Y"
      },
      "source": [
        "### Necessary Condition for Matrix Multiplication\n",
        "\n",
        "Remember that matrices can have different numbers of rows and columns.\n",
        "\n",
        "To multiply two matrices $A_{m \\times n}$ and $B_{n \\times k}$, where $A$ has dimensions $m \\times n$ and $B$ has dimensions $n \\times k$, the number of columns of matrix $A$ must equal the number of rows of matrix $B$. Otherwise, matrix multiplication is not possible.\n",
        "\n",
        "$$\n",
        "A_{m \\times n} \\cdot B_{n \\times k} = C_{m \\times k}\n",
        "$$\n",
        "\n",
        "For example, if $A_{3 \\times 3}$ and $B_{3 \\times 3}$, then the resulting matrix $C_{3 \\times 3}$.\n",
        "\n",
        "<img src=\"https://www.mscroggs.co.uk/img/full/multiply_matrices.gif\" alt=\"Matrix Multiplication GIF\" width=\"400\">\n",
        "\n",
        "### Matrix Multiplication is Not Commutative\n",
        "\n",
        "Matrix multiplication is not commutative, i.e., in general $A \\cdot B \\neq B \\cdot A$."
      ]
    },
    {
      "cell_type": "code",
      "execution_count": null,
      "metadata": {
        "id": "yapmfofzN27Y"
      },
      "outputs": [],
      "source": [
        "# Example of multiplying rectangular matrices\n",
        "import sympy as sp\n",
        "A=sp.Matrix([[1,2],[3,4],[5,6]]) # define matrix A_{3 x 2}\n",
        "B=sp.Matrix([[1,2,3],[4,5,6]]) # define matrix B_{2 x 3}\n",
        "C=sp.Matrix([[9,12,15],[19,26,33],[29,40,51]]) # define matrix C_{3 x 3}\n",
        "\n",
        "A*B # multiply matrices A and B to get a 3x3 matrix"
      ]
    },
    {
      "cell_type": "code",
      "execution_count": null,
      "metadata": {
        "id": "Z5LzR2ZXN27Y"
      },
      "outputs": [],
      "source": [
        "B*A # multiply matrices B and A to get a 2x2 matrix"
      ]
    },
    {
      "cell_type": "code",
      "execution_count": null,
      "metadata": {
        "id": "kIG0pP7fN27Y"
      },
      "outputs": [],
      "source": [
        "B*C # multiply matrices B and C to get a 2x3 matrix"
      ]
    },
    {
      "cell_type": "markdown",
      "metadata": {
        "id": "45uXFPlgN27Z"
      },
      "source": [
        "---\n",
        "## Exercises for Students (old version)\n",
        "\n",
        "1. Calculate the sum of matrices $A=\\begin{bmatrix} 1 & 2 \\\\ 3 & 4 \\end{bmatrix}$ and $B=\\begin{bmatrix} 5 & 6 \\\\ 7 & 8 \\end{bmatrix}$.\n",
        "\n",
        "2. Calculate the product of matrix $A=\\begin{bmatrix} 4 & 2 \\\\ 12 & 4 \\end{bmatrix}$ and scalar $k=\\frac{1}{4}$.\n",
        "\n",
        "3. Calculate the products $A\\cdot B$ and $B \\cdot A$ for matrices $A=\\begin{bmatrix} 3 & 2 \\\\ 2 & 4 \\end{bmatrix}$ and $B=\\begin{bmatrix} 4 & 1 \\\\ 6 & 4 \\end{bmatrix}$."
      ]
    },
    {
      "cell_type": "markdown",
      "metadata": {
        "id": "chDoGCU8N27Z"
      },
      "source": [
        "\n",
        "## Exercises for Students (new version)\n",
        "\n",
        "For follwing matrices\n",
        "\n",
        "$$\n",
        "\\mathbf{A}=\n",
        "\\begin{pmatrix}\n",
        "1 & 2 \\\\\n",
        "3 & 4\n",
        "\\end{pmatrix}\n",
        "\\qquad\n",
        "\\mathbf{B}=\n",
        "\\begin{pmatrix}\n",
        "5 & 6 \\\\\n",
        "7 & 8\n",
        "\\end{pmatrix}\n",
        "\\quad\n",
        "\\mathbf{C}=\n",
        "\\begin{pmatrix}\n",
        "-1 & 2 \\\\\n",
        "3 & 0\n",
        "\\end{pmatrix}\n",
        "\\qquad\n",
        "\\mathbf{D}=\n",
        "\\begin{pmatrix}\n",
        "-1 & 2 & 3 \\\\\n",
        "4 & 0 & 6\n",
        "\\end{pmatrix}\n",
        "\\qquad\n",
        "\\mathbf{E}=\n",
        "\\begin{pmatrix}\n",
        "1 & 2\\\\\n",
        "4 & 5\\\\\n",
        "7 & 8\n",
        "\\end{pmatrix}\n",
        "$$\n",
        "\n",
        "1. Calculate: $\\mathbf{A}+\\mathbf{B}$;  $\\mathbf{B}-\\mathbf{A}$;  $\\mathbf{A}+\\mathbf{C}$; $\\mathbf{D}+\\mathbf{E}$.\n",
        "\n",
        "2. Calculate $\\frac{1}{2}\\mathbf{A}$, $2\\mathbf{B}$, $-3\\mathbf{C}$, and $4\\mathbf{D}$.\n",
        "\n",
        "3. Calculate the products $\\mathbf{A}\\cdot \\mathbf{B}$; $\\mathbf{B} \\cdot \\mathbf{A}$; $\\mathbf{A} \\cdot \\mathbf{D}$; $\\mathbf{D} \\cdot \\mathbf{E}$."
      ]
    },
    {
      "cell_type": "code",
      "source": [
        "import numpy as np\n",
        "\n",
        "# Define matrices\n",
        "A = np.array([[1, 2], [3, 4]])\n",
        "B = np.array([[5, 6], [7, 8]])\n",
        "C = np.array([[-1, 2], [3, 0]])\n",
        "D = np.array([[-1, 2, 3], [4, 0, 6]])\n",
        "E = np.array([[1, 2], [4, 5], [7, 8]])\n",
        "\n",
        "# Part 1: Matrix additions and subtractions\n",
        "A_plus_B = A + B\n",
        "B_minus_A = B - A\n",
        "A_plus_C = A + C\n",
        "\n",
        "# Check if addition D + E is valid (dimensions must match)\n",
        "D_plus_E = None\n",
        "if D.shape == E.shape:\n",
        "    D_plus_E = D + E\n",
        "\n",
        "# Part 2: Scalar multiplications\n",
        "half_A = 0.5 * A\n",
        "two_B = 2 * B\n",
        "neg_three_C = -3 * C\n",
        "four_D = 4 * D\n",
        "\n",
        "# Part 3: Matrix products\n",
        "A_dot_B = np.dot(A, B)\n",
        "B_dot_A = np.dot(B, A)\n",
        "A_dot_D = None\n",
        "D_dot_E = None\n",
        "\n",
        "# Check if products are valid (inner dimensions must match)\n",
        "if A.shape[1] == D.shape[0]:\n",
        "    A_dot_D = np.dot(A, D)\n",
        "if D.shape[1] == E.shape[0]:\n",
        "    D_dot_E = np.dot(D, E)\n",
        "\n",
        "# Display results\n",
        "print(\"Part 1: Matrix Additions and Subtractions\")\n",
        "print(\"A + B:\\n\", A_plus_B)\n",
        "print(\"B - A:\\n\", B_minus_A)\n",
        "print(\"A + C:\\n\", A_plus_C)\n",
        "print(\"D + E (Not defined if dimensions mismatch):\", D_plus_E)\n",
        "\n",
        "print(\"\\nPart 2: Scalar Multiplications\")\n",
        "print(\"0.5 * A:\\n\", half_A)\n",
        "print(\"2 * B:\\n\", two_B)\n",
        "print(\"-3 * C:\\n\", neg_three_C)\n",
        "print(\"4 * D:\\n\", four_D)\n",
        "\n",
        "print(\"\\nPart 3: Matrix Products\")\n",
        "print(\"A * B:\\n\", A_dot_B)\n",
        "print(\"B * A:\\n\", B_dot_A)\n",
        "print(\"A * D (Not defined if dimensions mismatch):\\n\", A_dot_D)\n",
        "print(\"D * E (Not defined if dimensions mismatch):\\n\", D_dot_E)\n"
      ],
      "metadata": {
        "id": "oNyALHhGSi1u",
        "outputId": "de5c76fb-90d0-4ce6-92c7-157198e94127",
        "colab": {
          "base_uri": "https://localhost:8080/"
        }
      },
      "execution_count": 6,
      "outputs": [
        {
          "output_type": "stream",
          "name": "stdout",
          "text": [
            "Part 1: Matrix Additions and Subtractions\n",
            "A + B:\n",
            " [[ 6  8]\n",
            " [10 12]]\n",
            "B - A:\n",
            " [[4 4]\n",
            " [4 4]]\n",
            "A + C:\n",
            " [[0 4]\n",
            " [6 4]]\n",
            "D + E (Not defined if dimensions mismatch): None\n",
            "\n",
            "Part 2: Scalar Multiplications\n",
            "0.5 * A:\n",
            " [[0.5 1. ]\n",
            " [1.5 2. ]]\n",
            "2 * B:\n",
            " [[10 12]\n",
            " [14 16]]\n",
            "-3 * C:\n",
            " [[ 3 -6]\n",
            " [-9  0]]\n",
            "4 * D:\n",
            " [[-4  8 12]\n",
            " [16  0 24]]\n",
            "\n",
            "Part 3: Matrix Products\n",
            "A * B:\n",
            " [[19 22]\n",
            " [43 50]]\n",
            "B * A:\n",
            " [[23 34]\n",
            " [31 46]]\n",
            "A * D (Not defined if dimensions mismatch):\n",
            " [[ 7  2 15]\n",
            " [13  6 33]]\n",
            "D * E (Not defined if dimensions mismatch):\n",
            " [[28 32]\n",
            " [46 56]]\n"
          ]
        }
      ]
    },
    {
      "cell_type": "markdown",
      "metadata": {
        "id": "2LTKa0uRN27Z"
      },
      "source": []
    }
  ],
  "metadata": {
    "kernelspec": {
      "display_name": "Python 3",
      "language": "python",
      "name": "python3"
    },
    "language_info": {
      "name": "python",
      "version": "3.11.9"
    },
    "colab": {
      "provenance": [],
      "include_colab_link": true
    }
  },
  "nbformat": 4,
  "nbformat_minor": 0
}