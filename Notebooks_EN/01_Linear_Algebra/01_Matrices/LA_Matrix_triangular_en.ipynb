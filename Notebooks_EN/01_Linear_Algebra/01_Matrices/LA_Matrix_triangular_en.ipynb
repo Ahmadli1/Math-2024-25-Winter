{
  "cells": [
    {
      "cell_type": "markdown",
      "metadata": {
        "id": "view-in-github",
        "colab_type": "text"
      },
      "source": [
        "<a href=\"https://colab.research.google.com/github/Ahmadli1/Math-2024-25-Winter/blob/main/Notebooks_EN/01_Linear_Algebra/01_Matrices/LA_Matrix_triangular_en.ipynb\" target=\"_parent\"><img src=\"https://colab.research.google.com/assets/colab-badge.svg\" alt=\"Open In Colab\"/></a>"
      ]
    },
    {
      "cell_type": "markdown",
      "metadata": {
        "id": "KnygSsmyWEuJ"
      },
      "source": [
        "# Triangular Matrices and determinant calculation"
      ]
    },
    {
      "cell_type": "code",
      "execution_count": null,
      "metadata": {
        "id": "g_sUBElLWEuK",
        "outputId": "99dd9db8-7eed-4fdb-e54e-533db771006c"
      },
      "outputs": [
        {
          "data": {
            "text/markdown": [
              "**Initial Matrix:**"
            ],
            "text/plain": [
              "<IPython.core.display.Markdown object>"
            ]
          },
          "metadata": {},
          "output_type": "display_data"
        },
        {
          "data": {
            "text/latex": [
              "$\\displaystyle \\left[\\begin{matrix}1 & 2 & 3\\\\2 & 5 & 3\\\\3 & 2 & 1\\end{matrix}\\right]$"
            ],
            "text/plain": [
              "Matrix([\n",
              "[1, 2, 3],\n",
              "[2, 5, 3],\n",
              "[3, 2, 1]])"
            ]
          },
          "metadata": {},
          "output_type": "display_data"
        }
      ],
      "source": [
        "import sympy as sp\n",
        "from sympy import Matrix, symbols, Rational\n",
        "from IPython.display import display, Markdown\n",
        "\n",
        "class SymbolicMatrix:\n",
        "    def __init__(self, matrix):\n",
        "        self.matrix = Matrix(matrix).applyfunc(Rational)\n",
        "        self.operations = []\n",
        "        display(Markdown(\"**Initial Matrix:**\"))\n",
        "        display(self.matrix)  # Display the matrix upon initialization\n",
        "\n",
        "    def __repr__(self):\n",
        "        return repr(self.matrix)  # Use Matrix's repr\n",
        "\n",
        "    def __str__(self):\n",
        "        return str(self.matrix)  # Use Matrix's str\n",
        "\n",
        "    def _repr_latex_(self):\n",
        "        return self.matrix._repr_latex_()  # Delegate LaTeX display\n",
        "\n",
        "    def _validate_row_number(self, row):\n",
        "        if not isinstance(row, int):\n",
        "            raise TypeError(\"Row number must be an integer.\")\n",
        "        if row < 1 or row > self.matrix.rows:\n",
        "            raise IndexError(f\"Row number must be in the range from 1 to {self.matrix.rows}.\")\n",
        "        return row - 1\n",
        "\n",
        "    def _validate_col_number(self, col):\n",
        "        if not isinstance(col, int):\n",
        "            raise TypeError(\"Column number must be an integer.\")\n",
        "        if col < 1 or col > self.matrix.cols:\n",
        "            raise IndexError(f\"Column number must be in the range from 1 to {self.matrix.cols}.\")\n",
        "        return col - 1\n",
        "\n",
        "    # Row operations\n",
        "    def add_row(self, target_row, source_row, coefficient):\n",
        "        target_idx = self._validate_row_number(target_row)\n",
        "        source_idx = self._validate_row_number(source_row)\n",
        "        coefficient = Rational(coefficient)\n",
        "\n",
        "        self.matrix.row_op(target_idx, lambda v, j: v + coefficient * self.matrix[source_idx, j])\n",
        "        operation_str = f\"r{target_row} = r{target_row} + {coefficient}*r{source_row}\"\n",
        "        self.operations.append(operation_str)\n",
        "        display(Markdown(f\"**Operation:** {operation_str}\"))\n",
        "        display(self.matrix)\n",
        "\n",
        "    def multiply_row(self, row, coefficient):\n",
        "        row_idx = self._validate_row_number(row)\n",
        "        coefficient = Rational(coefficient)\n",
        "        self.matrix.row_op(row_idx, lambda v, _: coefficient * v)\n",
        "        operation_str = f\"r{row} = {coefficient}*r{row}\"\n",
        "        self.operations.append(operation_str)\n",
        "        display(Markdown(f\"**Operation:** {operation_str}\"))\n",
        "        display(self.matrix)\n",
        "\n",
        "    def swap_rows(self, row1, row2):\n",
        "        row1_idx = self._validate_row_number(row1)\n",
        "        row2_idx = self._validate_row_number(row2)\n",
        "        self.matrix.row_swap(row1_idx, row2_idx)\n",
        "        operation_str = f\"Swap r{row1} <-> r{row2}\"\n",
        "        self.operations.append(operation_str)\n",
        "        display(Markdown(f\"**Operation:** {operation_str}\"))\n",
        "        display(self.matrix)\n",
        "\n",
        "    # Column operations\n",
        "    def add_col(self, target_col, source_col, coefficient):\n",
        "        target_idx = self._validate_col_number(target_col)\n",
        "        source_idx = self._validate_col_number(source_col)\n",
        "        self.matrix.col_op(target_idx, lambda v, i: v + coefficient * self.matrix[i, source_idx])\n",
        "        operation_str = f\"c{target_col} = c{target_col} + {coefficient}*c{source_col}\"\n",
        "        self.operations.append(operation_str)\n",
        "        display(Markdown(f\"**Operation:** {operation_str}\"))\n",
        "        display(self.matrix)\n",
        "\n",
        "    def multiply_col(self, col, coefficient):\n",
        "        col_idx = self._validate_col_number(col)\n",
        "        self.matrix.col_op(col_idx, lambda v, _: coefficient * v)\n",
        "        operation_str = f\"c{col} = {coefficient}*c{col}\"\n",
        "        self.operations.append(operation_str)\n",
        "        display(Markdown(f\"**Operation:** {operation_str}\"))\n",
        "        display(self.matrix)\n",
        "\n",
        "    def swap_cols(self, col1, col2):\n",
        "        col1_idx = self._validate_col_number(col1)\n",
        "        col2_idx = self._validate_col_number(col2)\n",
        "        self.matrix.col_swap(col1_idx, col2_idx)\n",
        "        operation_str = f\"Swap c{col1} <-> c{col2}\"\n",
        "        self.operations.append(operation_str)\n",
        "        display(Markdown(f\"**Operation:** {operation_str}\"))\n",
        "        display(self.matrix)\n",
        "\n",
        "    # Display the operations performed\n",
        "    def print_operations(self):\n",
        "        display(Markdown(\"**Performed Operations:**\"))\n",
        "        for op in self.operations:\n",
        "            print(op)\n",
        "\n",
        "# Example usage\n",
        "mat = [[1, 2, 3], [2, 5, 3], [3, 2, 1]]\n",
        "\n",
        "m = SymbolicMatrix(mat) # instance of SymbolicMatrix class\n",
        "\n",
        "# define the same matrix for computation check\n",
        "original_matrix = sp.Matrix(mat)"
      ]
    },
    {
      "cell_type": "code",
      "execution_count": null,
      "metadata": {
        "id": "HkG6Dd0zWEuL",
        "outputId": "b36cfb63-bcfb-45f7-95d3-476b6ce88986"
      },
      "outputs": [
        {
          "data": {
            "text/markdown": [
              "**Operation:** r2 = r2 + -2*r1"
            ],
            "text/plain": [
              "<IPython.core.display.Markdown object>"
            ]
          },
          "metadata": {},
          "output_type": "display_data"
        },
        {
          "data": {
            "text/latex": [
              "$\\displaystyle \\left[\\begin{matrix}1 & 2 & 3\\\\0 & 1 & -3\\\\3 & 2 & 1\\end{matrix}\\right]$"
            ],
            "text/plain": [
              "Matrix([\n",
              "[1, 2,  3],\n",
              "[0, 1, -3],\n",
              "[3, 2,  1]])"
            ]
          },
          "metadata": {},
          "output_type": "display_data"
        }
      ],
      "source": [
        "m.add_row(2, 1, -2)"
      ]
    },
    {
      "cell_type": "code",
      "execution_count": null,
      "metadata": {
        "id": "Vh37N34VWEuL",
        "outputId": "fac1593f-bf3c-4da8-c847-704c6280e406"
      },
      "outputs": [
        {
          "data": {
            "text/markdown": [
              "**Operation:** r3 = r3 + -3*r1"
            ],
            "text/plain": [
              "<IPython.core.display.Markdown object>"
            ]
          },
          "metadata": {},
          "output_type": "display_data"
        },
        {
          "data": {
            "text/latex": [
              "$\\displaystyle \\left[\\begin{matrix}1 & 2 & 3\\\\0 & 1 & -3\\\\0 & -4 & -8\\end{matrix}\\right]$"
            ],
            "text/plain": [
              "Matrix([\n",
              "[1,  2,  3],\n",
              "[0,  1, -3],\n",
              "[0, -4, -8]])"
            ]
          },
          "metadata": {},
          "output_type": "display_data"
        }
      ],
      "source": [
        "m.add_row(3, 1, -3)"
      ]
    },
    {
      "cell_type": "code",
      "execution_count": null,
      "metadata": {
        "id": "z7Vl5gB5WEuM",
        "outputId": "bba97750-00cc-4e17-f8d5-a8cd0928c8ca"
      },
      "outputs": [
        {
          "data": {
            "text/markdown": [
              "**Operation:** r3 = r3 + 4*r2"
            ],
            "text/plain": [
              "<IPython.core.display.Markdown object>"
            ]
          },
          "metadata": {},
          "output_type": "display_data"
        },
        {
          "data": {
            "text/latex": [
              "$\\displaystyle \\left[\\begin{matrix}1 & 2 & 3\\\\0 & 1 & -3\\\\0 & 0 & -20\\end{matrix}\\right]$"
            ],
            "text/plain": [
              "Matrix([\n",
              "[1, 2,   3],\n",
              "[0, 1,  -3],\n",
              "[0, 0, -20]])"
            ]
          },
          "metadata": {},
          "output_type": "display_data"
        }
      ],
      "source": [
        "m.add_row(3, 2, 4)"
      ]
    },
    {
      "cell_type": "markdown",
      "metadata": {
        "id": "M4QlbRY7WEuM"
      },
      "source": [
        "The resulting matrix is an upper triangular matrix.\n",
        "\n",
        "### Determinant of a Triangular Matrix\n",
        "\n",
        "For a triangular matrix, the determinant is equal to the product of the elements on its diagonal."
      ]
    },
    {
      "cell_type": "code",
      "execution_count": null,
      "metadata": {
        "id": "Q34iDqJMWEuM",
        "outputId": "41e49d23-42dc-49f3-8db6-9724c679722b"
      },
      "outputs": [
        {
          "data": {
            "text/plain": [
              "True"
            ]
          },
          "execution_count": 5,
          "metadata": {},
          "output_type": "execute_result"
        }
      ],
      "source": [
        "# The determinant of a triangular matrix is the product of the diagonal elements!\n",
        "original_matrix.det() == 1 * 1 * (-20)"
      ]
    },
    {
      "cell_type": "markdown",
      "metadata": {
        "id": "MMQ5rfc-WEuM"
      },
      "source": [
        "---\n",
        "\n",
        "## Exercises for Students\n",
        "\n",
        "Perform row and column operations to reduce the following matrices to an upper triangular form and calculate their determinants by taking the product of the diagonal elements.\n",
        "\n",
        "1.\n",
        "$$\n",
        "A = \\begin{bmatrix}\n",
        "12 & 3 \\\\\n",
        "-18 & -4\n",
        "\\end{bmatrix}\n",
        "$$\n",
        "\n",
        "2.\n",
        "\n",
        "$$\n",
        "B = \\begin{bmatrix}\n",
        "1 & 2 & 3 \\\\\n",
        "4 & 5 & 6 \\\\\n",
        "7 & 8 & 9\n",
        "\\end{bmatrix}\n",
        "$$"
      ]
    },
    {
      "cell_type": "markdown",
      "source": [
        "# Exercises for Students\n",
        "\n",
        "Perform row and column operations to reduce the following matrices to an **upper triangular form** and calculate their determinants by taking the **product of the diagonal elements**.\n",
        "\n",
        "## **1. Matrix \\( A \\):**\n",
        "\\[\n",
        "A = \\begin{bmatrix} 12 & 3 \\\\ -18 & -4 \\end{bmatrix}\n",
        "\\]\n",
        "\n",
        "### **Solution:**\n",
        "We apply row operations to convert \\( A \\) into an upper triangular form.\n",
        "\n",
        "#### **Step 1: Make the first pivot 1**\n",
        "Divide \\( R_1 \\) by 12:\n",
        "\n",
        "\\[\n",
        "R_1 \\rightarrow \\frac{1}{12} R_1\n",
        "\\]\n",
        "\n",
        "\\[\n",
        "A = \\begin{bmatrix} 12 & 3 \\\\ -18 & -4 \\end{bmatrix}\n",
        "\\]\n",
        "\n",
        "#### **Step 2: Eliminate the first column in \\( R_2 \\)**\n",
        "Perform the row operation:\n",
        "\n",
        "\\[\n",
        "R_2 \\rightarrow R_2 + \\frac{18}{12} R_1 = R_2 + 1.5 R_1\n",
        "\\]\n",
        "\n",
        "\\[\n",
        "\\begin{bmatrix} 12 & 3 \\\\ 0 & -4 + (1.5 \\times 3) \\end{bmatrix} = \\begin{bmatrix} 12 & 3 \\\\ 0 & -4 + 4.5 \\end{bmatrix} = \\begin{bmatrix} 12 & 3 \\\\ 0 & 0.5 \\end{bmatrix}\n",
        "\\]\n",
        "\n",
        "#### **Step 3: Compute the determinant**\n",
        "The determinant of an upper triangular matrix is the **product of its diagonal elements**:\n",
        "\n",
        "\\[\n",
        "\\det(A) = 12 \\times 0.5 = 6\n",
        "\\]\n",
        "\n",
        "\\[\n",
        "\\boxed{\\det(A) = 6}\n",
        "\\]\n",
        "\n",
        "---\n",
        "\n",
        "## **2. Matrix \\( B \\):**\n",
        "\\[\n",
        "B = \\begin{bmatrix} 1 & 2 & 3 \\\\ 4 & 5 & 6 \\\\ 7 & 8 & 9 \\end{bmatrix}\n",
        "\\]\n",
        "\n",
        "### **Solution:**\n",
        "We use row operations to convert \\( B \\) into an upper triangular form.\n",
        "\n",
        "#### **Step 1: Make the first pivot 1 (already 1)**\n",
        "We subtract multiples of the first row from the second and third rows.\n",
        "\n",
        "#### **Step 2: Eliminate column below pivot**\n",
        "Perform the row operations:\n",
        "\n",
        "\\[\n",
        "R_2 \\rightarrow R_2 - 4R_1, \\quad R_3 \\rightarrow R_3 - 7R_1\n",
        "\\]\n",
        "\n",
        "\\[\n",
        "\\begin{bmatrix}\n",
        "1 & 2 & 3 \\\\\n",
        "4 & 5 & 6 \\\\\n",
        "7 & 8 & 9\n",
        "\\end{bmatrix}\n",
        "\\]\n",
        "\n",
        "\\[\n",
        "\\rightarrow\n",
        "\\begin{bmatrix}\n",
        "1 & 2 & 3 \\\\\n",
        "0 & -3 & -6 \\\\\n",
        "0 & -6 & -12\n",
        "\\end{bmatrix}\n",
        "\\]\n",
        "\n",
        "#### **Step 3: Eliminate next column**\n",
        "Perform:\n",
        "\n",
        "\\[\n",
        "R_3 \\rightarrow R_3 - 2 R_2\n",
        "\\]\n",
        "\n",
        "\\[\n",
        "\\begin{bmatrix}\n",
        "1 & 2 & 3 \\\\\n",
        "0 & -3 & -6 \\\\\n",
        "0 & 0 & 0\n",
        "\\end{bmatrix}\n",
        "\\]\n",
        "\n",
        "#### **Step 4: Compute the determinant**\n",
        "Since the third row is all zeros, the determinant is:\n",
        "\n",
        "\\[\n",
        "\\det(B) = 0\n",
        "\\]\n",
        "\n",
        "\\[\n",
        "\\boxed{\\det(B) = 0}\n",
        "\\]\n",
        "\n",
        "---\n",
        "\n",
        "This Markdown will correctly format in **Jupyter Notebook, GitHub, or MathJax-enabled environments**, showing both the **row operations** and the **determinant calculations** step by step.\n"
      ],
      "metadata": {
        "id": "CgIp03LshlwW"
      }
    },
    {
      "cell_type": "code",
      "source": [
        "import numpy as np\n",
        "\n",
        "def row_reduce_to_upper_triangular(matrix):\n",
        "    \"\"\"Performs Gaussian elimination to reduce the matrix to upper triangular form.\"\"\"\n",
        "    m = matrix.copy()\n",
        "    n = m.shape[0]\n",
        "    for i in range(n):\n",
        "        # Make the pivot element 1 by dividing the row\n",
        "        if m[i, i] != 0:\n",
        "            m[i] = m[i] / m[i, i]\n",
        "\n",
        "        # Eliminate below the pivot\n",
        "        for j in range(i + 1, n):\n",
        "            if m[j, i] != 0:\n",
        "                m[j] -= m[j, i] * m[i]\n",
        "    return m\n",
        "\n",
        "def determinant_from_upper_triangular(matrix):\n",
        "    \"\"\"Calculates the determinant from an upper triangular matrix.\"\"\"\n",
        "    return np.prod(np.diag(matrix))\n",
        "\n",
        "# Define matrices\n",
        "A = np.array([[12, 3], [-18, -4]])\n",
        "B = np.array([[1, 2, 3], [4, 5, 6], [7, 8, 9]])\n",
        "\n",
        "# Reduce matrices to upper triangular form\n",
        "upper_triangular_A = row_reduce_to_upper_triangular(A)\n",
        "upper_triangular_B = row_reduce_to_upper_triangular(B)\n",
        "\n",
        "# Calculate determinants\n",
        "det_A = determinant_from_upper_triangular(upper_triangular_A)\n",
        "det_B = determinant_from_upper_triangular(upper_triangular_B)\n",
        "\n",
        "# Display results\n",
        "print(\"Upper triangular form of A:\")\n",
        "print(upper_triangular_A)\n",
        "print(\"Determinant of A:\", det_A)\n",
        "\n",
        "print(\"\\nUpper triangular form of B:\")\n",
        "print(upper_triangular_B)\n",
        "print(\"Determinant of B:\", det_B)\n",
        "\n"
      ],
      "metadata": {
        "id": "Koy8bmjYWRzj",
        "outputId": "f46881f9-971a-45e4-db48-1917cc82a16d",
        "colab": {
          "base_uri": "https://localhost:8080/"
        }
      },
      "execution_count": null,
      "outputs": [
        {
          "output_type": "stream",
          "name": "stdout",
          "text": [
            "Upper triangular form of A:\n",
            "[[1 0]\n",
            " [0 1]]\n",
            "Determinant of A: 1\n",
            "\n",
            "Upper triangular form of B:\n",
            "[[1 2 3]\n",
            " [0 1 2]\n",
            " [0 0 0]]\n",
            "Determinant of B: 0\n"
          ]
        }
      ]
    },
    {
      "cell_type": "markdown",
      "metadata": {
        "id": "TysPQQkqWEuN"
      },
      "source": []
    }
  ],
  "metadata": {
    "kernelspec": {
      "display_name": "Python 3",
      "language": "python",
      "name": "python3"
    },
    "language_info": {
      "codemirror_mode": {
        "name": "ipython",
        "version": 3
      },
      "file_extension": ".py",
      "mimetype": "text/x-python",
      "name": "python",
      "nbconvert_exporter": "python",
      "pygments_lexer": "ipython3",
      "version": "3.11.9"
    },
    "colab": {
      "provenance": [],
      "include_colab_link": true
    }
  },
  "nbformat": 4,
  "nbformat_minor": 0
}