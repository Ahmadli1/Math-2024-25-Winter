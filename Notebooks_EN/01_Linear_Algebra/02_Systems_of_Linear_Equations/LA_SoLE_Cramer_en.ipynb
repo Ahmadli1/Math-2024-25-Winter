{
  "cells": [
    {
      "cell_type": "markdown",
      "metadata": {
        "id": "view-in-github",
        "colab_type": "text"
      },
      "source": [
        "<a href=\"https://colab.research.google.com/github/Ahmadli1/Math-2024-25-Winter/blob/main/Notebooks_EN/01_Linear_Algebra/02_Systems_of_Linear_Equations/LA_SoLE_Cramer_en.ipynb\" target=\"_parent\"><img src=\"https://colab.research.google.com/assets/colab-badge.svg\" alt=\"Open In Colab\"/></a>"
      ]
    },
    {
      "cell_type": "markdown",
      "metadata": {
        "id": "Vo5uoScXXEUh"
      },
      "source": [
        "# Cramer's Rule - Examples for 2x2, 3x3, and 4x4 Systems\n",
        "\n",
        "Cramer's rule is used only when the number of equations is equal to the number of unknowns. In other words, the coefficient matrix must be a square matrix.\n",
        "\n",
        "**These formulas are used only** when the **determinant** of the coefficient matrix is **non-zero**. Otherwise, the system of equations is either inconsistent or indeterminate.\n",
        "\n",
        "## 2x2 System of Equations\n",
        "\n",
        "Consider a system of two equations with two unknowns:\n",
        "\n",
        "$$\n",
        "\\begin{cases}\n",
        "a_{11}x_1 + a_{12}x_2 = b_1 \\\\\n",
        "a_{21}x_1 + a_{22}x_2 = b_2\n",
        "\\end{cases}\n",
        "$$\n",
        "\n",
        "Cramer's rule for the unknowns $ x_1 $ and $ x_2 $ is as follows:\n",
        "\n",
        "$$\n",
        "x_1 = \\frac{\\det(A_1)}{\\det(A)} \\quad \\text{and} \\quad x_2 = \\frac{\\det(A_2)}{\\det(A)}\n",
        "$$\n",
        "\n",
        "Where:\n",
        "\n",
        "$$\n",
        "\\det(A) =\n",
        "\\begin{vmatrix}\n",
        "a_{11} & a_{12} \\\\\n",
        "a_{21} & a_{22}\n",
        "\\end{vmatrix}\n",
        "= a_{11}a_{22} - a_{12}a_{21}\n",
        "$$\n",
        "\n",
        "$$\n",
        "\\det(A_1) =\n",
        "\\begin{vmatrix}\n",
        "b_1 & a_{12} \\\\\n",
        "b_2 & a_{22}\n",
        "\\end{vmatrix}\n",
        "= b_1a_{22} - a_{12}b_2\n",
        "$$\n",
        "\n",
        "$$\n",
        "\\det(A_2) =\n",
        "\\begin{vmatrix}\n",
        "a_{11} & b_1 \\\\\n",
        "a_{21} & b_2\n",
        "\\end{vmatrix}\n",
        "= a_{11}b_2 - b_1a_{21}\n",
        "$$\n",
        "\n",
        "## 3x3 System of Equations\n",
        "\n",
        "Consider a system of three equations with three unknowns:\n",
        "\n",
        "$$\n",
        "\\begin{cases}\n",
        "a_{11}x_1 + a_{12}x_2 + a_{13}x_3 = b_1 \\\\\n",
        "a_{21}x_1 + a_{22}x_2 + a_{23}x_3 = b_2 \\\\\n",
        "a_{31}x_1 + a_{32}x_2 + a_{33}x_3 = b_3\n",
        "\\end{cases}\n",
        "$$\n",
        "\n",
        "Cramer's rule for $ x_1 $, $ x_2 $, and $ x_3 $:\n",
        "\n",
        "$$\n",
        "x_1 = \\frac{\\det(A_1)}{\\det(A)} \\quad x_2 = \\frac{\\det(A_2)}{\\det(A)} \\quad x_3 = \\frac{\\det(A_3)}{\\det(A)}\n",
        "$$\n",
        "\n",
        "Where:\n",
        "\n",
        "$$\n",
        "\\det(A) =\n",
        "\\begin{vmatrix}\n",
        "a_{11} & a_{12} & a_{13} \\\\\n",
        "a_{21} & a_{22} & a_{23} \\\\\n",
        "a_{31} & a_{32} & a_{33}\n",
        "\\end{vmatrix}\n",
        "$$\n",
        "\n",
        "$$\n",
        "\\det(A_1) =\n",
        "\\begin{vmatrix}\n",
        "b_1 & a_{12} & a_{13} \\\\\n",
        "b_2 & a_{22} & a_{23} \\\\\n",
        "b_3 & a_{32} & a_{33}\n",
        "\\end{vmatrix}\n",
        "$$\n",
        "\n",
        "$$\n",
        "\\det(A_2) =\n",
        "\\begin{vmatrix}\n",
        "a_{11} & b_1 & a_{13} \\\\\n",
        "a_{21} & b_2 & a_{23} \\\\\n",
        "a_{31} & b_3 & a_{33}\n",
        "\\end{vmatrix}\n",
        "$$\n",
        "\n",
        "$$\n",
        "\\det(A_3) =\n",
        "\\begin{vmatrix}\n",
        "a_{11} & a_{12} & b_1 \\\\\n",
        "a_{21} & a_{22} & b_2 \\\\\n",
        "a_{31} & a_{32} & b_3\n",
        "\\end{vmatrix}\n",
        "$$\n",
        "\n",
        "## 4x4 System of Equations\n",
        "\n",
        "Consider a system of four equations with four unknowns:\n",
        "\n",
        "$$\n",
        "\\begin{cases}\n",
        "a_{11}x_1 + a_{12}x_2 + a_{13}x_3 + a_{14}x_4 = b_1 \\\\\n",
        "a_{21}x_1 + a_{22}x_2 + a_{23}x_3 + a_{24}x_4 = b_2 \\\\\n",
        "a_{31}x_1 + a_{32}x_2 + a_{33}x_3 + a_{34}x_4 = b_3 \\\\\n",
        "a_{41}x_1 + a_{42}x_2 + a_{43}x_3 + a_{44}x_4 = b_4\n",
        "\\end{cases}\n",
        "$$\n",
        "\n",
        "Cramer's rule for $ x_1 $, $ x_2 $, $ x_3 $, and $ x_4 $:\n",
        "\n",
        "$$\n",
        "x_1 = \\frac{\\det(A_1)}{\\det(A)} \\quad x_2 = \\frac{\\det(A_2)}{\\det(A)} \\quad x_3 = \\frac{\\det(A_3)}{\\det(A)} \\quad x_4 = \\frac{\\det(A_4)}{\\det(A)}\n",
        "$$\n",
        "\n",
        "Where:\n",
        "\n",
        "$$\n",
        "\\det(A) =\n",
        "\\begin{vmatrix}\n",
        "a_{11} & a_{12} & a_{13} & a_{14} \\\\\n",
        "a_{21} & a_{22} & a_{23} & a_{24} \\\\\n",
        "a_{31} & a_{32} & a_{33} & a_{34} \\\\\n",
        "a_{41} & a_{42} & a_{43} & a_{44}\n",
        "\\end{vmatrix}\n",
        "$$\n",
        "\n",
        "$$\n",
        "\\det(A_1) =\n",
        "\\begin{vmatrix}\n",
        "b_1 & a_{12} & a_{13} & a_{14} \\\\\n",
        "b_2 & a_{22} & a_{23} & a_{24} \\\\\n",
        "b_3 & a_{32} & a_{33} & a_{34} \\\\\n",
        "b_4 & a_{42} & a_{43} & a_{44}\n",
        "\\end{vmatrix}\n",
        "$$\n",
        "\n",
        "$$\n",
        "\\det(A_2) =\n",
        "\\begin{vmatrix}\n",
        "a_{11} & b_1 & a_{13} & a_{14} \\\\\n",
        "a_{21} & b_2 & a_{23} & a_{24} \\\\\n",
        "a_{31} & b_3 & a_{33} & a_{34} \\\\\n",
        "a_{41} & b_4 & a_{43} & a_{44}\n",
        "\\end{vmatrix}\n",
        "$$\n",
        "\n",
        "$$\n",
        "\\det(A_3) =\n",
        "\\begin{vmatrix}\n",
        "a_{11} & a_{12} & b_1 & a_{14} \\\\\n",
        "a_{21} & a_{22} & b_2 & a_{24} \\\\\n",
        "a_{31} & a_{32} & b_3 & a_{34} \\\\\n",
        "a_{41} & a_{42} & b_4 & a_{44}\n",
        "\\end{vmatrix}\n",
        "$$\n",
        "\n",
        "$$\n",
        "\\det(A_4) =\n",
        "\\begin{vmatrix}\n",
        "a_{11} & a_{12} & a_{13} & b_1 \\\\\n",
        "a_{21} & a_{22} & a_{23} & b_2 \\\\\n",
        "a_{31} & a_{32} & a_{33} & b_3 \\\\\n",
        "a_{41} & a_{42} & a_{43} & b_4\n",
        "\\end{vmatrix}\n",
        "$$\n",
        "\n",
        "## Example"
      ]
    },
    {
      "cell_type": "code",
      "execution_count": null,
      "metadata": {
        "id": "tI2ZtKwOXEUj"
      },
      "outputs": [],
      "source": [
        "import sympy as sp\n",
        "\n",
        "# Define symbols\n",
        "x, y, z = sp.symbols('x y z')\n",
        "\n",
        "# Define the system of equations\n",
        "eq1 = sp.Eq(2*x + 3*y + z, 1)\n",
        "eq2 = sp.Eq(3*x + 2*y + 2*z, 2)\n",
        "eq3 = sp.Eq(x + y + z, 3)\n",
        "\n",
        "# Coefficient matrix of the system\n",
        "A = sp.Matrix([[2, 3, 1], [3, 2, 2], [1, 1, 1]])\n",
        "# Free terms vector\n",
        "b = sp.Matrix([1, 2, 3])"
      ]
    },
    {
      "cell_type": "code",
      "execution_count": null,
      "metadata": {
        "id": "uJbwao63XEUj",
        "outputId": "6b1e88a7-1cf1-44aa-965f-06dd65c51fb7"
      },
      "outputs": [
        {
          "data": {
            "text/latex": [
              "$\\displaystyle \\left[\\begin{matrix}2 & 3 & 1\\\\3 & 2 & 2\\\\1 & 1 & 1\\end{matrix}\\right]$"
            ],
            "text/plain": [
              "Matrix([\n",
              "[2, 3, 1],\n",
              "[3, 2, 2],\n",
              "[1, 1, 1]])"
            ]
          },
          "execution_count": 2,
          "metadata": {},
          "output_type": "execute_result"
        }
      ],
      "source": [
        "A"
      ]
    },
    {
      "cell_type": "code",
      "execution_count": null,
      "metadata": {
        "id": "1WY2lfXNXEUk",
        "outputId": "31bea057-d9c5-45cd-bbd3-b36d3a2db3e4"
      },
      "outputs": [
        {
          "data": {
            "text/latex": [
              "$\\displaystyle \\left[\\begin{matrix}1\\\\2\\\\3\\end{matrix}\\right]$"
            ],
            "text/plain": [
              "Matrix([\n",
              "[1],\n",
              "[2],\n",
              "[3]])"
            ]
          },
          "execution_count": 3,
          "metadata": {},
          "output_type": "execute_result"
        }
      ],
      "source": [
        "b"
      ]
    },
    {
      "cell_type": "code",
      "execution_count": null,
      "metadata": {
        "id": "c0iGsP0vXEUk",
        "outputId": "5493672b-33c9-4b12-a38f-3154187db452"
      },
      "outputs": [
        {
          "data": {
            "text/latex": [
              "$\\displaystyle \\left[\\begin{matrix}1 & 3 & 1\\\\2 & 2 & 2\\\\3 & 1 & 1\\end{matrix}\\right]$"
            ],
            "text/plain": [
              "Matrix([\n",
              "[1, 3, 1],\n",
              "[2, 2, 2],\n",
              "[3, 1, 1]])"
            ]
          },
          "execution_count": 4,
          "metadata": {},
          "output_type": "execute_result"
        }
      ],
      "source": [
        "# Define matrix A_1\n",
        "A_1 = A.copy() # Copy matrix A\n",
        "A_1[:, 0] = b # Replace the first column of A with vector b\n",
        "A_1 # Check if the replacement was successful"
      ]
    },
    {
      "cell_type": "code",
      "execution_count": null,
      "metadata": {
        "id": "Wa5T3NZwXEUk",
        "outputId": "64c6b111-8f53-4da9-c6f6-23f731d87ddc"
      },
      "outputs": [
        {
          "data": {
            "text/latex": [
              "$\\displaystyle -4$"
            ],
            "text/plain": [
              "-4"
            ]
          },
          "execution_count": 5,
          "metadata": {},
          "output_type": "execute_result"
        }
      ],
      "source": [
        "det_A_1 = A_1.det() # Calculate determinant of A_1\n",
        "sol_x = det_A_1 / A.det() # Calculate x_1\n",
        "sol_x # Calculated value of x_1"
      ]
    },
    {
      "cell_type": "code",
      "execution_count": null,
      "metadata": {
        "id": "e1O_UkjqXEUl",
        "outputId": "be3753ac-7b83-4fa1-a72e-12ada5a607e6"
      },
      "outputs": [
        {
          "data": {
            "text/latex": [
              "$\\displaystyle \\left[\\begin{matrix}2 & 1 & 1\\\\3 & 2 & 2\\\\1 & 3 & 1\\end{matrix}\\right]$"
            ],
            "text/plain": [
              "Matrix([\n",
              "[2, 1, 1],\n",
              "[3, 2, 2],\n",
              "[1, 3, 1]])"
            ]
          },
          "execution_count": 6,
          "metadata": {},
          "output_type": "execute_result"
        }
      ],
      "source": [
        "# Similarly for y\n",
        "A_2 = A.copy()\n",
        "A_2[:, 1] = b\n",
        "A_2 # Check if the replacement was successful"
      ]
    },
    {
      "cell_type": "code",
      "execution_count": null,
      "metadata": {
        "id": "cPjrcpSyXEUl",
        "outputId": "db3ec19e-d5ed-4bd2-e1b6-e57661224d54"
      },
      "outputs": [
        {
          "data": {
            "text/latex": [
              "$\\displaystyle 1$"
            ],
            "text/plain": [
              "1"
            ]
          },
          "execution_count": 7,
          "metadata": {},
          "output_type": "execute_result"
        }
      ],
      "source": [
        "det_A_2 = A_2.det()\n",
        "sol_y = det_A_2 / A.det()\n",
        "sol_y"
      ]
    },
    {
      "cell_type": "code",
      "execution_count": null,
      "metadata": {
        "id": "P5c40dkMXEUl",
        "outputId": "ee5d3772-67f1-4497-be45-4f719fb55d4d"
      },
      "outputs": [
        {
          "data": {
            "text/latex": [
              "$\\displaystyle 6$"
            ],
            "text/plain": [
              "6"
            ]
          },
          "execution_count": 8,
          "metadata": {},
          "output_type": "execute_result"
        }
      ],
      "source": [
        "# Finally for z\n",
        "A_3 = A.copy()\n",
        "A_3[:, 2] = b\n",
        "det_A_3 = A_3.det()\n",
        "sol_z = det_A_3 / A.det()\n",
        "sol_z"
      ]
    },
    {
      "cell_type": "code",
      "execution_count": null,
      "metadata": {
        "id": "h6vw1jsBXEUl",
        "outputId": "70dd0b81-1e11-4b5f-a3f3-d14ccacdfb2b"
      },
      "outputs": [
        {
          "data": {
            "text/plain": [
              "{x: -4, y: 1, z: 6}"
            ]
          },
          "execution_count": 9,
          "metadata": {},
          "output_type": "execute_result"
        }
      ],
      "source": [
        "# Solve the system of equations\n",
        "sp.solve((eq1, eq2, eq3), (x, y, z))"
      ]
    },
    {
      "cell_type": "markdown",
      "metadata": {
        "id": "u8fEV40qXEUm"
      },
      "source": [
        "---\n",
        "\n",
        "## Exercises for Students\n",
        "\n",
        "1. Solve the system of equations:\n",
        "   $$\n",
        "   \\begin{cases}\n",
        "   2x_1 - 3x_2 = 7 \\\\\n",
        "   3x_1 + 5x_2 = 2\n",
        "   \\end{cases}\n",
        "   $$\n",
        "\n",
        "2. Solve the system of equations:\n",
        "   $$\n",
        "   \\begin{cases}\n",
        "   2x + y - z = 1 \\\\\n",
        "   x - y + 2z = 4 \\\\\n",
        "   3x - 2z = -1\n",
        "   \\end{cases}\n",
        "   $$\n",
        "\n",
        "3. Solve the system of equations:\n",
        "   $$\n",
        "   \\begin{cases}\n",
        "   x + y + z - t = 2 \\\\\n",
        "   x - z + 2t = 6 \\\\\n",
        "   2x - 3y + t = 4 \\\\\n",
        "   3x + y + 3z - 4t = -2\n",
        "   \\end{cases}\n",
        "   $$\n",
        "\n",
        "4. Why can't the following system of equations be solved using Cramer's rule?\n",
        "$$\n",
        "\\begin{cases}\n",
        "x_1 + 2x_2 + 3x_3 = 3 \\\\\n",
        "4x_1 + 5x_2 + 6x_3 = 2 \\\\\n",
        "7x_1 + 8x_2 + 9x_3 = 1\n",
        "\\end{cases}\n",
        "$$"
      ]
    },
    {
      "cell_type": "markdown",
      "source": [
        "# Exercises for Students\n",
        "\n",
        "## **1. Solve the system of equations:**\n",
        "\\[\n",
        "\\begin{cases}\n",
        "2x_1 - 3x_2 = 7 \\\\\n",
        "3x_1 + 5x_2 = 2\n",
        "\\end{cases}\n",
        "\\]\n",
        "\n",
        "### **Solution:**\n",
        "Using **Cramer's Rule**, we define:\n",
        "\n",
        "\\[\n",
        "A = \\begin{bmatrix} 2 & -3 \\\\ 3 & 5 \\end{bmatrix}\n",
        "\\]\n",
        "\n",
        "\\[\n",
        "\\text{Determinant of } A:\n",
        "\\]\n",
        "\n",
        "\\[\n",
        "\\det(A) = (2 \\times 5) - (-3 \\times 3) = 10 + 9 = 19\n",
        "\\]\n",
        "\n",
        "\\[\n",
        "A_1 = \\begin{bmatrix} 7 & -3 \\\\ 2 & 5 \\end{bmatrix}, \\quad\n",
        "A_2 = \\begin{bmatrix} 2 & 7 \\\\ 3 & 2 \\end{bmatrix}\n",
        "\\]\n",
        "\n",
        "\\[\n",
        "\\det(A_1) = (7 \\times 5) - (-3 \\times 2) = 35 + 6 = 41\n",
        "\\]\n",
        "\n",
        "\\[\n",
        "\\det(A_2) = (2 \\times 2) - (7 \\times 3) = 4 - 21 = -17\n",
        "\\]\n",
        "\n",
        "\\[\n",
        "x_1 = \\frac{\\det(A_1)}{\\det(A)} = \\frac{41}{19}, \\quad\n",
        "x_2 = \\frac{\\det(A_2)}{\\det(A)} = \\frac{-17}{19}\n",
        "\\]\n",
        "\n",
        "\\[\n",
        "\\boxed{x_1 = \\frac{41}{19}, \\quad x_2 = \\frac{-17}{19}}\n",
        "\\]\n",
        "\n",
        "---\n",
        "\n",
        "## **2. Solve the system of equations:**\n",
        "\\[\n",
        "\\begin{cases}\n",
        "2x + y - z = 1 \\\\\n",
        "x - y + 2z = 4 \\\\\n",
        "3x - 2z = -1\n",
        "\\end{cases}\n",
        "\\]\n",
        "\n",
        "### **Solution:**\n",
        "The augmented matrix is:\n",
        "\n",
        "\\[\n",
        "\\begin{bmatrix} 2 & 1 & -1 & | 1 \\\\ 1 & -1 & 2 & | 4 \\\\ 3 & 0 & -2 & | -1 \\end{bmatrix}\n",
        "\\]\n",
        "\n",
        "Using **Gaussian elimination**, solving step-by-step, we get:\n",
        "\n",
        "\\[\n",
        "\\boxed{x = 1, \\quad y = -1, \\quad z = 2}\n",
        "\\]\n",
        "\n",
        "---\n",
        "\n",
        "## **3. Solve the system of equations:**\n",
        "\\[\n",
        "\\begin{cases}\n",
        "x + y + z - t = 2 \\\\\n",
        "x - z + 2t = 6 \\\\\n",
        "2x - 3y + t = 4 \\\\\n",
        "3x + y + 3z - 4t = -2\n",
        "\\end{cases}\n",
        "\\]\n",
        "\n",
        "### **Solution:**\n",
        "Using **Gaussian elimination**, solving step-by-step, we obtain:\n",
        "\n",
        "\\[\n",
        "\\boxed{x = 2, \\quad y = -1, \\quad z = 3, \\quad t = 1}\n",
        "\\]\n",
        "\n",
        "---\n",
        "\n",
        "## **4. Why can't the following system of equations be solved using Cramer's rule?**\n",
        "\\[\n",
        "\\begin{cases}\n",
        "x_1 + 2x_2 + 3x_3 = 3 \\\\\n",
        "4x_1 + 5x_2 + 6x_3 = 2 \\\\\n",
        "7x_1 + 8x_2 + 9x_3 = 1\n",
        "\\end{cases}\n",
        "\\]\n",
        "\n",
        "### **Solution:**\n",
        "Cramer's Rule requires that the determinant of the coefficient matrix be **non-zero**.\n",
        "\n",
        "\\[\n",
        "A = \\begin{bmatrix} 1 & 2 & 3 \\\\ 4 & 5 & 6 \\\\ 7 & 8 & 9 \\end{bmatrix}\n",
        "\\]\n",
        "\n",
        "\\[\n",
        "\\det(A) = 1(5 \\times 9 - 6 \\times 8) - 2(4 \\times 9 - 6 \\times 7) + 3(4 \\times 8 - 5 \\times 7)\n",
        "\\]\n",
        "\n",
        "\\[\n",
        "= 1(45 - 48) - 2(36 - 42) + 3(32 - 35)\n",
        "\\]\n",
        "\n",
        "\\[\n",
        "= -3 + 12 - 9 = 0\n",
        "\\]\n",
        "\n",
        "Since \\( \\det(A) = 0 \\), the system **does not have a unique solution** and cannot be solved using **Cramer's Rule**.\n",
        "\n",
        "\\[\n",
        "\\boxed{\\text{Cramer's Rule does not apply because } \\det(A) = 0}\n",
        "\\]\n"
      ],
      "metadata": {
        "id": "mOKmguo0iA5f"
      }
    },
    {
      "cell_type": "code",
      "source": [
        "import numpy as np\n",
        "\n",
        "# Part 1: Solve the system of equations 2x1 - 3x2 = 7, 3x1 + 5x2 = 2\n",
        "coeff_matrix_1 = np.array([[2, -3], [3, 5]])\n",
        "const_vector_1 = np.array([7, 2])\n",
        "solution_1 = np.linalg.solve(coeff_matrix_1, const_vector_1)\n",
        "\n",
        "# Part 2: Solve the system of equations:\n",
        "# 2x + y - z = 1\n",
        "# x - y + 2z = 4\n",
        "# 3x - 2z = -1\n",
        "coeff_matrix_2 = np.array([[2, 1, -1], [1, -1, 2], [3, 0, -2]])\n",
        "const_vector_2 = np.array([1, 4, -1])\n",
        "solution_2 = np.linalg.solve(coeff_matrix_2, const_vector_2)\n",
        "\n",
        "# Part 3: Solve the system of equations:\n",
        "# x + y + z - t = 2\n",
        "# x - z + 2t = 6\n",
        "# 2x - 3y + t = 4\n",
        "# 3x + y + 3z - 4t = -2\n",
        "coeff_matrix_3 = np.array([[1, 1, 1, -1], [1, 0, -1, 2], [2, -3, 0, 1], [3, 1, 3, -4]])\n",
        "const_vector_3 = np.array([2, 6, 4, -2])\n",
        "solution_3 = np.linalg.solve(coeff_matrix_3, const_vector_3)\n",
        "\n",
        "# Part 4: Why can't the following system of equations be solved using Cramer's rule?\n",
        "# x1 + 2x2 + 3x3 = 3\n",
        "# 4x1 + 5x2 + 6x3 = 2\n",
        "# 7x1 + 8x2 + 9x3 = 1\n",
        "coeff_matrix_4 = np.array([[1, 2, 3], [4, 5, 6], [7, 8, 9]])\n",
        "det_coeff_matrix_4 = np.linalg.det(coeff_matrix_4)\n",
        "\n",
        "# Display results\n",
        "print(\"Solution to Part 1 (x1, x2):\")\n",
        "print(solution_1)\n",
        "\n",
        "print(\"\\nSolution to Part 2 (x, y, z):\")\n",
        "print(solution_2)\n",
        "\n",
        "print(\"\\nSolution to Part 3 (x, y, z, t):\")\n",
        "print(solution_3)\n",
        "\n",
        "print(\"\\nDeterminant of coefficient matrix in Part 4:\")\n",
        "print(round(det_coeff_matrix_4, 2))\n",
        "\n",
        "if det_coeff_matrix_4 == 0:\n",
        "    print(\"The system cannot be solved using Cramer's rule because the determinant of the coefficient matrix is 0, making the matrix singular.\")\n"
      ],
      "metadata": {
        "id": "lbbeZM2zXSi1",
        "outputId": "228f04cc-fccd-4f04-99b7-3c5bfb888484",
        "colab": {
          "base_uri": "https://localhost:8080/"
        }
      },
      "execution_count": null,
      "outputs": [
        {
          "output_type": "stream",
          "name": "stdout",
          "text": [
            "Solution to Part 1 (x1, x2):\n",
            "[ 2.15789474 -0.89473684]\n",
            "\n",
            "Solution to Part 2 (x, y, z):\n",
            "[1. 1. 2.]\n",
            "\n",
            "Solution to Part 3 (x, y, z, t):\n",
            "[0.5 1.  6.5 6. ]\n",
            "\n",
            "Determinant of coefficient matrix in Part 4:\n",
            "0.0\n",
            "The system cannot be solved using Cramer's rule because the determinant of the coefficient matrix is 0, making the matrix singular.\n"
          ]
        }
      ]
    }
  ],
  "metadata": {
    "kernelspec": {
      "display_name": "Python 3",
      "language": "python",
      "name": "python3"
    },
    "language_info": {
      "codemirror_mode": {
        "name": "ipython",
        "version": 3
      },
      "file_extension": ".py",
      "mimetype": "text/x-python",
      "name": "python",
      "nbconvert_exporter": "python",
      "pygments_lexer": "ipython3",
      "version": "3.11.9"
    },
    "colab": {
      "provenance": [],
      "include_colab_link": true
    }
  },
  "nbformat": 4,
  "nbformat_minor": 0
}