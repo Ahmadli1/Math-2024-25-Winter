{
  "cells": [
    {
      "cell_type": "markdown",
      "metadata": {
        "id": "view-in-github",
        "colab_type": "text"
      },
      "source": [
        "<a href=\"https://colab.research.google.com/github/Ahmadli1/Math-2024-25-Winter/blob/main/Notebooks_EN/01_Linear_Algebra/02_Systems_of_Linear_Equations/LA_SoLE__old_school_en.ipynb\" target=\"_parent\"><img src=\"https://colab.research.google.com/assets/colab-badge.svg\" alt=\"Open In Colab\"/></a>"
      ]
    },
    {
      "cell_type": "markdown",
      "metadata": {
        "id": "t8Hi8NlYYOcx"
      },
      "source": [
        "# School Method for Solving Systems of Linear Equations"
      ]
    },
    {
      "cell_type": "code",
      "execution_count": null,
      "metadata": {
        "id": "ZTHXajO8YOcy"
      },
      "outputs": [],
      "source": [
        "import sympy as sp\n",
        "from sympy import symbols, Eq, expand, solve\n",
        "\n",
        "class EnhancedEq(Eq):\n",
        "    def __add__(self, other):\n",
        "        return EnhancedEq(self.lhs + other.lhs, self.rhs + other.rhs)\n",
        "\n",
        "    def __sub__(self, other):\n",
        "        return EnhancedEq(self.lhs - other.lhs, self.rhs - other.rhs)\n",
        "\n",
        "    def __mul__(self, scalar):\n",
        "        return EnhancedEq(scalar * self.lhs, scalar * self.rhs)\n",
        "\n",
        "    def __rmul__(self, scalar):\n",
        "        return self.__mul__(scalar)\n",
        "\n",
        "    def simplify(self):\n",
        "        return EnhancedEq(expand(self.lhs), expand(self.rhs))\n",
        "\n",
        "    def substitute(self, *args, **kwargs):\n",
        "        return EnhancedEq(self.lhs.subs(*args, **kwargs), self.rhs.subs(*args, **kwargs))\n",
        "\n",
        "    def solve_for(self, symbol):\n",
        "        return solve(self, symbol)\n",
        "\n",
        "# Example usage:\n",
        "x, y = symbols('x y')\n",
        "\n",
        "# Define equations\n",
        "eq1 = EnhancedEq(2*x + y, 5)\n",
        "eq2 = EnhancedEq(x - y, 1)"
      ]
    },
    {
      "cell_type": "code",
      "execution_count": null,
      "metadata": {
        "id": "el6X3XuyYOcz",
        "outputId": "a359f060-23a1-4935-94b6-3f3a466b13b5"
      },
      "outputs": [
        {
          "name": "stdout",
          "output_type": "stream",
          "text": [
            "First equation:\n"
          ]
        },
        {
          "data": {
            "text/latex": [
              "$\\displaystyle 2 x + y = 5$"
            ],
            "text/plain": [
              "Eq(2*x + y, 5)"
            ]
          },
          "execution_count": 2,
          "metadata": {},
          "output_type": "execute_result"
        }
      ],
      "source": [
        "print(\"First equation:\")\n",
        "eq1"
      ]
    },
    {
      "cell_type": "code",
      "execution_count": null,
      "metadata": {
        "id": "RlSGxqAMYOcz",
        "outputId": "6ba1e049-93ec-48ff-8aff-5e2e6296eb7f"
      },
      "outputs": [
        {
          "name": "stdout",
          "output_type": "stream",
          "text": [
            "Second equation:\n"
          ]
        },
        {
          "data": {
            "text/latex": [
              "$\\displaystyle x - y = 1$"
            ],
            "text/plain": [
              "Eq(x - y, 1)"
            ]
          },
          "execution_count": 3,
          "metadata": {},
          "output_type": "execute_result"
        }
      ],
      "source": [
        "print(\"Second equation:\")\n",
        "eq2"
      ]
    },
    {
      "cell_type": "code",
      "execution_count": null,
      "metadata": {
        "id": "Q8hcXu_fYOcz",
        "outputId": "1fecba51-5adb-48c3-beba-ce852846dba9"
      },
      "outputs": [
        {
          "data": {
            "text/latex": [
              "$\\displaystyle 3 x = 6$"
            ],
            "text/plain": [
              "Eq(3*x, 6)"
            ]
          },
          "execution_count": 4,
          "metadata": {},
          "output_type": "execute_result"
        }
      ],
      "source": [
        "# Add the equations\n",
        "eq3 = eq1 + eq2\n",
        "eq3"
      ]
    },
    {
      "cell_type": "code",
      "execution_count": null,
      "metadata": {
        "id": "mTOTFEFlYOcz",
        "outputId": "82a25606-fee7-4c51-9cb3-d32b0f27bd59"
      },
      "outputs": [
        {
          "data": {
            "text/latex": [
              "$\\displaystyle 2$"
            ],
            "text/plain": [
              "2"
            ]
          },
          "execution_count": 5,
          "metadata": {},
          "output_type": "execute_result"
        }
      ],
      "source": [
        "# We have an equation with one unknown, so we can solve it\n",
        "sol_x = eq3.solve_for(x)[0]\n",
        "sol_x"
      ]
    },
    {
      "cell_type": "code",
      "execution_count": null,
      "metadata": {
        "id": "GQOD1e-0YOc0",
        "outputId": "cce0a5ee-2355-4f85-cb0f-73db0a50d90a"
      },
      "outputs": [
        {
          "data": {
            "text/latex": [
              "$\\displaystyle 2 - y = 1$"
            ],
            "text/plain": [
              "Eq(2 - y, 1)"
            ]
          },
          "execution_count": 6,
          "metadata": {},
          "output_type": "execute_result"
        }
      ],
      "source": [
        "# Substitute the solution into equation 2\n",
        "eq2 = eq2.substitute(x, sol_x)\n",
        "eq2"
      ]
    },
    {
      "cell_type": "code",
      "execution_count": null,
      "metadata": {
        "id": "dHpowXo_YOc0",
        "outputId": "c43f4cd4-2847-425d-d9a5-12a7f38a75d7"
      },
      "outputs": [
        {
          "data": {
            "text/latex": [
              "$\\displaystyle 1$"
            ],
            "text/plain": [
              "1"
            ]
          },
          "execution_count": 7,
          "metadata": {},
          "output_type": "execute_result"
        }
      ],
      "source": [
        "# We get an equation with one unknown, so we can solve it\n",
        "eq2.solve_for(y)[0]"
      ]
    },
    {
      "cell_type": "code",
      "execution_count": null,
      "metadata": {
        "id": "NOgMmGznYOc0",
        "outputId": "df2343e1-df49-4713-ea5f-5e964f797846"
      },
      "outputs": [
        {
          "data": {
            "text/plain": [
              "{x: 2, y: 1}"
            ]
          },
          "execution_count": 8,
          "metadata": {},
          "output_type": "execute_result"
        }
      ],
      "source": [
        "# Thus x=2, y=1\n",
        "# Verify with sympy\n",
        "sp.solve([eq1, eq2])"
      ]
    },
    {
      "cell_type": "markdown",
      "metadata": {
        "id": "n-dIC6M7YOc0"
      },
      "source": [
        "---\n",
        "\n",
        "### Exercises for Students\n",
        "\n",
        "Solve the following systems of equations similarly to the example above:\n",
        "\n",
        "* $3x-2y=5, \\quad 2x+3y=7$,\n",
        "* $2x-3y=10, \\quad 4x+5y=20$,\n",
        "* $2x - y + z = 3, \\quad x + 2y - z = 1, \\quad 3x - y + 2z = 11$.\n",
        "* $2x-3y+4z+2t=2, \\quad 3x+2y-5z+3t=3, \\quad 4x-3y+2z-5t=4, \\quad 5x+4y-3z+2t=5$."
      ]
    },
    {
      "cell_type": "code",
      "source": [
        "import numpy as np\n",
        "\n",
        "# Part 1: Solve the system\n",
        "# 3x - 2y = 5\n",
        "# 2x + 3y = 7\n",
        "coeff_matrix_1 = np.array([[3, -2], [2, 3]])\n",
        "const_vector_1 = np.array([5, 7])\n",
        "solution_1 = np.linalg.solve(coeff_matrix_1, const_vector_1)\n",
        "\n",
        "# Part 2: Solve the system\n",
        "# 2x - 3y = 10\n",
        "# 4x + 5y = 20\n",
        "coeff_matrix_2 = np.array([[2, -3], [4, 5]])\n",
        "const_vector_2 = np.array([10, 20])\n",
        "solution_2 = np.linalg.solve(coeff_matrix_2, const_vector_2)\n",
        "\n",
        "# Part 3: Solve the system\n",
        "# 2x - y + z = 3\n",
        "# x + 2y - z = 1\n",
        "# 3x - y + 2z = 11\n",
        "coeff_matrix_3 = np.array([[2, -1, 1], [1, 2, -1], [3, -1, 2]])\n",
        "const_vector_3 = np.array([3, 1, 11])\n",
        "solution_3 = np.linalg.solve(coeff_matrix_3, const_vector_3)\n",
        "\n",
        "# Part 4: Solve the system\n",
        "# 2x - 3y + 4z + 2t = 2\n",
        "# 3x + 2y - 5z + 3t = 3\n",
        "# 4x - 3y + 2z - 5t = 4\n",
        "# 5x + 4y - 3z + 2t = 5\n",
        "coeff_matrix_4 = np.array([[2, -3, 4, 2], [3, 2, -5, 3], [4, -3, 2, -5], [5, 4, -3, 2]])\n",
        "const_vector_4 = np.array([2, 3, 4, 5])\n",
        "solution_4 = np.linalg.solve(coeff_matrix_4, const_vector_4)\n",
        "\n",
        "# Display results\n",
        "print(\"Solution to Part 1 (x, y):\")\n",
        "print(solution_1)\n",
        "\n",
        "print(\"\\nSolution to Part 2 (x, y):\")\n",
        "print(solution_2)\n",
        "\n",
        "print(\"\\nSolution to Part 3 (x, y, z):\")\n",
        "print(solution_3)\n",
        "\n",
        "print(\"\\nSolution to Part 4 (x, y, z, t):\")\n",
        "print(solution_4)\n"
      ],
      "metadata": {
        "id": "yLm6gj6wYW8A",
        "outputId": "0963894e-8140-4268-8a0d-567c90314728",
        "colab": {
          "base_uri": "https://localhost:8080/"
        }
      },
      "execution_count": 1,
      "outputs": [
        {
          "output_type": "stream",
          "name": "stdout",
          "text": [
            "Solution to Part 1 (x, y):\n",
            "[2.23076923 0.84615385]\n",
            "\n",
            "Solution to Part 2 (x, y):\n",
            "[ 5. -0.]\n",
            "\n",
            "Solution to Part 3 (x, y, z):\n",
            "[-0.25  4.75  8.25]\n",
            "\n",
            "Solution to Part 4 (x, y, z, t):\n",
            "[ 1.00000000e+00  1.11022302e-16  1.05975834e-16 -3.36431220e-17]\n"
          ]
        }
      ]
    }
  ],
  "metadata": {
    "kernelspec": {
      "display_name": "Python 3",
      "language": "python",
      "name": "python3"
    },
    "language_info": {
      "codemirror_mode": {
        "name": "ipython",
        "version": 3
      },
      "file_extension": ".py",
      "mimetype": "text/x-python",
      "name": "python",
      "nbconvert_exporter": "python",
      "pygments_lexer": "ipython3",
      "version": "3.11.9"
    },
    "colab": {
      "provenance": [],
      "include_colab_link": true
    }
  },
  "nbformat": 4,
  "nbformat_minor": 0
}